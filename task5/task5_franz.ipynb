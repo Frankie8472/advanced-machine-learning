{
 "cells": [
  {
   "cell_type": "code",
   "execution_count": 2,
   "metadata": {},
   "outputs": [],
   "source": [
    "import numpy as np\n",
    "import helper_functions as hf\n",
    "from scipy.stats import kurtosis, skew\n",
    "from pywt import dwt\n",
    "from biosppy.signals.eeg import eeg\n",
    "from sklearn.decomposition import PCA\n",
    "from sklearn.model_selection import cross_val_score\n",
    "from sklearn.svm import SVC\n"
   ]
  },
  {
   "cell_type": "code",
   "execution_count": 3,
   "metadata": {},
   "outputs": [],
   "source": [
    "X_train_eeg1, _ = hf.read_csv_to_matrix(\"task5/input/train_eeg1.csv\", \"Id\")\n",
    "X_train_eeg2, _ = hf.read_csv_to_matrix(\"task5/input/train_eeg2.csv\", \"Id\")\n",
    "X_train_emg, _ = hf.read_csv_to_matrix(\"task5/input/train_emg.csv\", \"Id\")\n",
    "X_test_eeg1, _ = hf.read_csv_to_matrix(\"task5/input/test_eeg1.csv\", \"Id\")\n",
    "X_test_eeg2, _ = hf.read_csv_to_matrix(\"task5/input/test_eeg2.csv\", \"Id\")\n",
    "X_test_emg, _ = hf.read_csv_to_matrix(\"task5/input/test_emg.csv\", \"Id\")\n",
    "y_train, _ = hf.read_csv_to_matrix(\"task5/input/train_labels.csv\", \"Id\")\n",
    "_, test_index = hf.read_csv_to_matrix(\"task5/input/sample.csv\", \"Id\")\n",
    "y_train = np.squeeze(y_train)\n"
   ]
  },
  {
   "cell_type": "code",
   "execution_count": 4,
   "metadata": {},
   "outputs": [],
   "source": [
    "def feature_extraction(signal):\n",
    "    # ensure numpy\n",
    "    signal = np.array(signal)\n",
    "\n",
    "    # mean\n",
    "    mean = np.mean(signal, axis=1)\n",
    "\n",
    "    # median\n",
    "    median = np.median(signal, axis=1)\n",
    "\n",
    "    # maximum amplitude\n",
    "    maxAmp = np.abs(signal - mean).max()\n",
    "\n",
    "    # variance\n",
    "    sigma2 = signal.var(ddof=1, axis=1)\n",
    "\n",
    "    # standard deviation\n",
    "    sigma = signal.std(ddof=1, axis=1)\n",
    "\n",
    "    # absolute deviation\n",
    "    ad = np.sum(np.abs(signal - median), axis=1)\n",
    "\n",
    "    # kurtosis\n",
    "    kurt = kurtosis(signal, bias=False, axis=1)\n",
    "\n",
    "    # skweness\n",
    "    skewness = skew(signal, bias=False, axis=1)\n",
    "\n",
    "    return np.r_[mean, median, maxAmp, sigma2, sigma, ad, kurt, skewness]\n",
    "\n",
    "\n",
    "def eeg_feature_extraction(x):\n",
    "    x_new = []\n",
    "    analysis = eeg(signal=x.transpose(), sampling_rate=128, show=False)\n",
    "    v1 = analysis['filtered'].transpose()\n",
    "    v2 = analysis['theta'].transpose()\n",
    "    v3 = analysis['alpha_low'].transpose()\n",
    "    v4 = analysis['alpha_high'].transpose()\n",
    "    v5 = analysis['beta'].transpose()\n",
    "    v6 = analysis['gamma'].transpose()\n",
    "    x_new.append(np.c_[v1, v2, v3, v4, v5, v6, feature_extraction(v1), feature_extraction(v2), feature_extraction(v3), feature_extraction(v4), feature_extraction(v5), feature_extraction(v6)])\n",
    "    return np.asarray(x_new)\n",
    "\n",
    "\n",
    "def emg_feature_extraction(x):\n",
    "    x_new = []\n",
    "    cA, cD = dwt(data=x, wavelet='db2')\n",
    "    for idx in range(cA.shape[0]):\n",
    "        to_append = np.r_[cA[idx], cD[idx], feature_extraction(cA[idx]), feature_extraction(cD[idx])]\n",
    "        x_new.append(to_append)\n",
    "\n",
    "    return np.asarray(x_new)\n"
   ]
  },
  {
   "cell_type": "code",
   "execution_count": 6,
   "metadata": {},
   "outputs": [
    {
     "name": "stdout",
     "output_type": "stream",
     "text": [
      "==> Train feature extraction\n==> EEG1\n"
     ]
    }
   ],
   "source": [
    "print(\"==> Train feature extraction\")\n",
    "print(\"==> EEG1\")\n",
    "X_train_eeg1_new = eeg_feature_extraction(X_train_eeg1)\n"
   ]
  },
  {
   "cell_type": "code",
   "execution_count": 9,
   "metadata": {},
   "outputs": [
    {
     "name": "stdout",
     "output_type": "stream",
     "text": [
      "==> EEG2\n"
     ]
    }
   ],
   "source": [
    "print(\"==> EEG2\")\n",
    "X_train_eeg2_new = eeg_feature_extraction(X_train_eeg2)\n"
   ]
  },
  {
   "cell_type": "code",
   "execution_count": 11,
   "metadata": {},
   "outputs": [
    {
     "name": "stdout",
     "output_type": "stream",
     "text": [
      "==> EMG\n"
     ]
    },
    {
     "name": "stderr",
     "output_type": "stream",
     "text": [
      "\nKeyboardInterrupt\n\n"
     ]
    }
   ],
   "source": [
    "print(\"==> EMG\")\n",
    "X_train_emg_new = emg_feature_extraction(X_train_emg)\n"
   ]
  },
  {
   "cell_type": "code",
   "execution_count": 19,
   "metadata": {},
   "outputs": [],
   "source": [
    "# Fuse extracted features\n",
    "X_train = np.c_[X_train_eeg1_new, X_train_eeg2_new]\n"
   ]
  },
  {
   "cell_type": "code",
   "execution_count": 14,
   "metadata": {},
   "outputs": [
    {
     "name": "stdout",
     "output_type": "stream",
     "text": [
      "==> PCA\n"
     ]
    }
   ],
   "source": [
    "print(\"==> PCA\")\n",
    "pca = PCA(\n",
    "    n_components=10,\n",
    "    whiten=True\n",
    ")\n",
    "\n",
    "X_train = pca.fit_transform(X_train)\n"
   ]
  },
  {
   "cell_type": "code",
   "execution_count": 20,
   "metadata": {},
   "outputs": [
    {
     "name": "stdout",
     "output_type": "stream",
     "text": [
      "==> Initialize classifier\n"
     ]
    }
   ],
   "source": [
    "print(\"==> Initialize classifier\")\n",
    "clf = SVC(\n",
    "    C=1.0,\n",
    "    kernel='rbf',\n",
    "    shrinking=True,\n",
    "    probability=False,\n",
    "    class_weight='balanced'\n",
    ")\n",
    "\n"
   ]
  },
  {
   "cell_type": "code",
   "execution_count": 21,
   "metadata": {},
   "outputs": [
    {
     "name": "stdout",
     "output_type": "stream",
     "text": [
      "==> 3 fold crossvalidation\n"
     ]
    }
   ],
   "source": [
    "print(\"==> 3 fold crossvalidation\")\n",
    "scores = cross_val_score(\n",
    "    estimator=clf,\n",
    "    X=X_train,\n",
    "    y=y_train,\n",
    "    groups=None,\n",
    "    scoring=hf.scorer(),\n",
    "    cv=3,\n",
    "    n_jobs=8,\n",
    "    verbose=0,\n",
    "    fit_params=None,\n",
    "    pre_dispatch='2*n_jobs',\n",
    ")\n",
    "\n",
    "print(\"Accuracy: %0.4f (+/- %0.4f)\" % (scores.mean(), scores.std() * 2))\n"
   ]
  },
  {
   "cell_type": "code",
   "execution_count": null,
   "metadata": {},
   "outputs": [],
   "source": []
  }
 ],
 "metadata": {
  "kernelspec": {
   "display_name": "Python 2",
   "language": "python",
   "name": "python2"
  },
  "language_info": {
   "codemirror_mode": {
    "name": "ipython",
    "version": 2
   },
   "file_extension": ".py",
   "mimetype": "text/x-python",
   "name": "python",
   "nbconvert_exporter": "python",
   "pygments_lexer": "ipython2",
   "version": "2.7.6"
  }
 },
 "nbformat": 4,
 "nbformat_minor": 0
}
