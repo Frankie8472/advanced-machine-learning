{
 "cells": [
  {
   "cell_type": "code",
   "execution_count": 1,
   "metadata": {},
   "outputs": [],
   "source": [
    "import numpy as np\n",
    "import helper_functions as hf\n",
    "from scipy.stats import kurtosis, skew\n",
    "from biosppy.signals.emg import emg"
   ]
  },
  {
   "cell_type": "code",
   "execution_count": 2,
   "metadata": {},
   "outputs": [],
   "source": [
    "X_train_eeg1, _ = hf.read_csv_to_matrix(\"task5/input/train_eeg1.csv\", \"Id\")\n",
    "X_train_eeg2, _ = hf.read_csv_to_matrix(\"task5/input/train_eeg2.csv\", \"Id\")\n",
    "X_train_emg, _ = hf.read_csv_to_matrix(\"task5/input/train_emg.csv\", \"Id\")\n",
    "X_test_eeg1, _ = hf.read_csv_to_matrix(\"task5/input/train_eeg1.csv\", \"Id\")\n",
    "X_test_eeg2, _ = hf.read_csv_to_matrix(\"task5/input/train_eeg2.csv\", \"Id\")\n",
    "X_test_emg, _ = hf.read_csv_to_matrix(\"task5/input/train_emg.csv\", \"Id\")\n",
    "y_train, _ = hf.read_csv_to_matrix(\"task5/input/train_labels.csv\", \"Id\")\n",
    "_, test_index = hf.read_csv_to_matrix(\"task5/input/sample.csv\", \"Id\")\n",
    "y_train = np.squeeze(y_train)"
   ]
  },
  {
   "cell_type": "code",
   "execution_count": 3,
   "metadata": {},
   "outputs": [],
   "source": [
    "def eeg_feature_extraction(x):\n",
    "    x_new = []\n",
    "    for i in range(x.shape[0]):\n",
    "        x_new.append([np.mean(x[i]), np.std(x[i]), kurtosis(x[i]), skew(x[i])])\n",
    "    return np.asarray(x_new)"
   ]
  },
  {
   "cell_type": "code",
   "execution_count": 4,
   "metadata": {},
   "outputs": [],
   "source": [
    "X_train_eeg1_new = eeg_feature_extraction(X_train_eeg1)"
   ]
  },
  {
   "cell_type": "code",
   "execution_count": 27,
   "metadata": {},
   "outputs": [],
   "source": [
    "X_test_emg_new = []\n",
    "ts = []\n",
    "filtered = []\n",
    "onsets = []\n",
    "for i in range(X_train_emg.shape[0]):\n",
    "    ts[i], filtered[i], onsets[i] = emg(X_train_emg[i])"
   ]
  },
  {
   "cell_type": "code",
   "execution_count": 32,
   "metadata": {},
   "outputs": [
    {
     "ename": "NameError",
     "evalue": "name 'emg' is not defined",
     "traceback": [
      "\u001b[0;31m---------------------------------------------------------------------------\u001b[0m",
      "\u001b[0;31mNameError\u001b[0m                                 Traceback (most recent call last)",
      "\u001b[0;32m<ipython-input-32-5cde0892aedc>\u001b[0m in \u001b[0;36m<module>\u001b[0;34m\u001b[0m\n\u001b[0;32m----> 1\u001b[0;31m \u001b[0memg\u001b[0m\u001b[0;34m(\u001b[0m\u001b[0mX_train_emg\u001b[0m\u001b[0;34m[\u001b[0m\u001b[0;36m0\u001b[0m\u001b[0;34m]\u001b[0m\u001b[0;34m)\u001b[0m\u001b[0;34m\u001b[0m\u001b[0;34m\u001b[0m\u001b[0m\n\u001b[0m",
      "\u001b[0;31mNameError\u001b[0m: name 'emg' is not defined"
     ],
     "output_type": "error"
    }
   ],
   "source": [
    "emg(X_train_emg[0])"
   ]
  },
  {
   "cell_type": "code",
   "execution_count": null,
   "metadata": {},
   "outputs": [],
   "source": []
  }
 ],
 "metadata": {
  "kernelspec": {
   "display_name": "Python 2",
   "language": "python",
   "name": "python2"
  },
  "language_info": {
   "codemirror_mode": {
    "name": "ipython",
    "version": 2
   },
   "file_extension": ".py",
   "mimetype": "text/x-python",
   "name": "python",
   "nbconvert_exporter": "python",
   "pygments_lexer": "ipython2",
   "version": "2.7.6"
  }
 },
 "nbformat": 4,
 "nbformat_minor": 0
}
