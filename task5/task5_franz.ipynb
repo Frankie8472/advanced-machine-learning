{
 "cells": [
  {
   "cell_type": "code",
   "execution_count": 1,
   "metadata": {},
   "outputs": [],
   "source": [
    "import numpy as np\n",
    "import helper_functions as hf\n",
    "from scipy.stats import kurtosis, skew\n",
    "from biosppy.signals.emg import emg\n",
    "from biosppy.signals.eeg import eeg\n",
    "from neurokit import emg_process\n"
   ]
  },
  {
   "cell_type": "code",
   "execution_count": 2,
   "metadata": {},
   "outputs": [],
   "source": [
    "X_train_eeg1, _ = hf.read_csv_to_matrix(\"task5/input/train_eeg1.csv\", \"Id\")\n",
    "X_train_eeg2, _ = hf.read_csv_to_matrix(\"task5/input/train_eeg2.csv\", \"Id\")\n",
    "X_train_emg, _ = hf.read_csv_to_matrix(\"task5/input/train_emg.csv\", \"Id\")\n",
    "X_test_eeg1, _ = hf.read_csv_to_matrix(\"task5/input/test_eeg1.csv\", \"Id\")\n",
    "X_test_eeg2, _ = hf.read_csv_to_matrix(\"task5/input/test_eeg2.csv\", \"Id\")\n",
    "X_test_emg, _ = hf.read_csv_to_matrix(\"task5/input/test_emg.csv\", \"Id\")\n",
    "y_train, _ = hf.read_csv_to_matrix(\"task5/input/train_labels.csv\", \"Id\")\n",
    "_, test_index = hf.read_csv_to_matrix(\"task5/input/sample.csv\", \"Id\")\n",
    "y_train = np.squeeze(y_train)\n"
   ]
  },
  {
   "cell_type": "code",
   "execution_count": 3,
   "metadata": {},
   "outputs": [],
   "source": [
    "def signal_feature_extraction(x):\n",
    "    x_new = []\n",
    "    for i in range(x.shape[0]):\n",
    "        x_new.append([np.mean(x[i]), np.std(x[i]), kurtosis(x[i]), skew(x[i])])\n",
    "    return np.asarray(x_new)\n",
    "\n",
    "\n",
    "def eeg_feature_extraction(x):\n",
    "    return eeg(signal=x, sampling_rate=128, show=False)\n",
    "\n",
    "\n",
    "def emg_feature_extraction(x):\n",
    "    # dwt\n",
    "    return\n"
   ]
  },
  {
   "cell_type": "code",
   "execution_count": 59,
   "metadata": {},
   "outputs": [],
   "source": [
    "a = eeg(X_train_eeg1[0].reshape(-1, 512).transpose(), sampling_rate=128, show=False)\n"
   ]
  },
  {
   "cell_type": "code",
   "execution_count": 67,
   "metadata": {},
   "outputs": [
    {
     "data": {
      "text/plain": [
       "array([[1.33670502e-12, 5.06019398e-12, 1.14840663e-11, 1.14840663e-11,\n        4.76238258e-11, 4.76238258e-11, 4.76238258e-11, 8.49887724e-11,\n        5.83229822e-11, 3.45222628e-11, 3.19295779e-11, 5.83229822e-11,\n        3.19295779e-11, 2.67963386e-11, 2.67963386e-11, 5.62898487e-11,\n        5.62898487e-11, 5.62965543e-11, 5.62965543e-11, 5.62965543e-11,\n        4.32487175e-11, 4.32487175e-11, 4.32487175e-11, 4.32487175e-11,\n        3.64272151e-11, 4.03346200e-11, 3.00235102e-11, 3.00235102e-11,\n        3.35738951e-11, 3.35738951e-11, 3.00235102e-11]])"
      ]
     },
     "execution_count": 67,
     "metadata": {},
     "output_type": "execute_result"
    }
   ],
   "source": [
    "a['theta'].transpose()"
   ]
  },
  {
   "cell_type": "code",
   "execution_count": 54,
   "metadata": {},
   "outputs": [],
   "source": [
    "import pywt\n",
    "import matplotlib.pyplot as plt\n",
    "import numpy as np\n",
    "\n",
    "ts = X_train_emg[0]\n",
    "\n",
    "(ca, cd) = pywt.dwt(ts, 'haar')\n",
    "\n",
    "cat = pywt._thresholding.soft(ca, np.std(ca)/2)\n",
    "cdt = pywt._thresholding.soft(cd, np.std(cd)/2)\n",
    "\n",
    "ts_rec = pywt.idwt(cat, cdt, 'haar')\n",
    "\n",
    "plt.close('all')\n",
    "\n",
    "plt.subplot(211)\n",
    "# Original coefficients\n",
    "plt.plot(ca, '--*b')\n",
    "plt.plot(cd, '--*r')\n",
    "# Thresholded coefficients\n",
    "plt.plot(cat, '--*c')\n",
    "plt.plot(cdt, '--*m')\n",
    "plt.legend(['ca','cd','ca_thresh', 'cd_thresh'], loc=0)\n",
    "plt.grid('on')\n",
    "\n",
    "plt.subplot(212)\n",
    "plt.plot(ts)\n",
    "#plt.hold('on')\n",
    "plt.plot(ts_rec, 'r')\n",
    "plt.legend(['original signal', 'reconstructed signal'])\n",
    "plt.grid('on')\n",
    "plt.show()"
   ]
  },
  {
   "cell_type": "code",
   "execution_count": null,
   "metadata": {},
   "outputs": [],
   "source": []
  }
 ],
 "metadata": {
  "kernelspec": {
   "display_name": "Python 2",
   "language": "python",
   "name": "python2"
  },
  "language_info": {
   "codemirror_mode": {
    "name": "ipython",
    "version": 2
   },
   "file_extension": ".py",
   "mimetype": "text/x-python",
   "name": "python",
   "nbconvert_exporter": "python",
   "pygments_lexer": "ipython2",
   "version": "2.7.6"
  }
 },
 "nbformat": 4,
 "nbformat_minor": 0
}
